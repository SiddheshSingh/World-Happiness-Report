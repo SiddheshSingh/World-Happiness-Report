{
 "cells": [
  {
   "cell_type": "code",
   "execution_count": 1,
   "metadata": {},
   "outputs": [],
   "source": [
    "import pandas as pd\n",
    "import numpy as np\n",
    "import os"
   ]
  },
  {
   "cell_type": "code",
   "execution_count": 2,
   "metadata": {},
   "outputs": [],
   "source": [
    "loc = 'world-happiness'"
   ]
  },
  {
   "cell_type": "code",
   "execution_count": 3,
   "metadata": {},
   "outputs": [
    {
     "name": "stdout",
     "output_type": "stream",
     "text": [
      "['2015.csv', '2016.csv', '2017.csv', '2018.csv', '2019.csv']\n"
     ]
    }
   ],
   "source": [
    "l = os.listdir(loc)\n",
    "print(l)"
   ]
  },
  {
   "cell_type": "code",
   "execution_count": 4,
   "metadata": {},
   "outputs": [],
   "source": [
    "report2015 = pd.read_csv(os.path.join(loc,'2015.csv'))[['Country','Region','Happiness Score']]\n",
    "report2016 = pd.read_csv(os.path.join(loc,'2016.csv'))[['Country','Region','Happiness Score']]\n",
    "report2017 = pd.read_csv(os.path.join(loc,'2017.csv'))[['Country','Happiness.Score']]\n",
    "\n",
    "# Renaming 2017 index 'Happiness.Score' as 'Happiness Score'\n",
    "report2017 = report2017.rename(columns={'Happiness.Score':'Happiness Score'})"
   ]
  },
  {
   "cell_type": "code",
   "execution_count": 5,
   "metadata": {},
   "outputs": [],
   "source": [
    "# Upper Casing Each Column name and Region Name, so that difference due to Cases do not appear\n",
    "report2015['Country'] = report2015['Country'].map(lambda name:name.upper())\n",
    "report2016['Country'] = report2016['Country'].map(lambda name:name.upper())\n",
    "report2017['Country'] = report2017['Country'].map(lambda name:name.upper())\n",
    "\n",
    "report2015['Region'] = report2015['Region'].map(lambda name:name.upper())\n",
    "report2016['Region'] = report2016['Region'].map(lambda name:name.upper())"
   ]
  },
  {
   "cell_type": "code",
   "execution_count": 6,
   "metadata": {},
   "outputs": [
    {
     "data": {
      "text/html": [
       "<div>\n",
       "<style scoped>\n",
       "    .dataframe tbody tr th:only-of-type {\n",
       "        vertical-align: middle;\n",
       "    }\n",
       "\n",
       "    .dataframe tbody tr th {\n",
       "        vertical-align: top;\n",
       "    }\n",
       "\n",
       "    .dataframe thead th {\n",
       "        text-align: right;\n",
       "    }\n",
       "</style>\n",
       "<table border=\"1\" class=\"dataframe\">\n",
       "  <thead>\n",
       "    <tr style=\"text-align: right;\">\n",
       "      <th></th>\n",
       "      <th>Country</th>\n",
       "      <th>Region</th>\n",
       "      <th>Happiness Score</th>\n",
       "    </tr>\n",
       "  </thead>\n",
       "  <tbody>\n",
       "    <tr>\n",
       "      <th>0</th>\n",
       "      <td>SWITZERLAND</td>\n",
       "      <td>WESTERN EUROPE</td>\n",
       "      <td>7.587</td>\n",
       "    </tr>\n",
       "    <tr>\n",
       "      <th>1</th>\n",
       "      <td>ICELAND</td>\n",
       "      <td>WESTERN EUROPE</td>\n",
       "      <td>7.561</td>\n",
       "    </tr>\n",
       "  </tbody>\n",
       "</table>\n",
       "</div>"
      ],
      "text/plain": [
       "       Country          Region  Happiness Score\n",
       "0  SWITZERLAND  WESTERN EUROPE            7.587\n",
       "1      ICELAND  WESTERN EUROPE            7.561"
      ]
     },
     "execution_count": 6,
     "metadata": {},
     "output_type": "execute_result"
    }
   ],
   "source": [
    "report2015.head(2)"
   ]
  },
  {
   "cell_type": "code",
   "execution_count": 7,
   "metadata": {},
   "outputs": [
    {
     "data": {
      "text/html": [
       "<div>\n",
       "<style scoped>\n",
       "    .dataframe tbody tr th:only-of-type {\n",
       "        vertical-align: middle;\n",
       "    }\n",
       "\n",
       "    .dataframe tbody tr th {\n",
       "        vertical-align: top;\n",
       "    }\n",
       "\n",
       "    .dataframe thead th {\n",
       "        text-align: right;\n",
       "    }\n",
       "</style>\n",
       "<table border=\"1\" class=\"dataframe\">\n",
       "  <thead>\n",
       "    <tr style=\"text-align: right;\">\n",
       "      <th></th>\n",
       "      <th>Country</th>\n",
       "      <th>Region</th>\n",
       "      <th>Happiness Score</th>\n",
       "    </tr>\n",
       "  </thead>\n",
       "  <tbody>\n",
       "    <tr>\n",
       "      <th>0</th>\n",
       "      <td>DENMARK</td>\n",
       "      <td>WESTERN EUROPE</td>\n",
       "      <td>7.526</td>\n",
       "    </tr>\n",
       "    <tr>\n",
       "      <th>1</th>\n",
       "      <td>SWITZERLAND</td>\n",
       "      <td>WESTERN EUROPE</td>\n",
       "      <td>7.509</td>\n",
       "    </tr>\n",
       "  </tbody>\n",
       "</table>\n",
       "</div>"
      ],
      "text/plain": [
       "       Country          Region  Happiness Score\n",
       "0      DENMARK  WESTERN EUROPE            7.526\n",
       "1  SWITZERLAND  WESTERN EUROPE            7.509"
      ]
     },
     "execution_count": 7,
     "metadata": {},
     "output_type": "execute_result"
    }
   ],
   "source": [
    "report2016.head(2)"
   ]
  },
  {
   "cell_type": "code",
   "execution_count": 8,
   "metadata": {},
   "outputs": [
    {
     "data": {
      "text/html": [
       "<div>\n",
       "<style scoped>\n",
       "    .dataframe tbody tr th:only-of-type {\n",
       "        vertical-align: middle;\n",
       "    }\n",
       "\n",
       "    .dataframe tbody tr th {\n",
       "        vertical-align: top;\n",
       "    }\n",
       "\n",
       "    .dataframe thead th {\n",
       "        text-align: right;\n",
       "    }\n",
       "</style>\n",
       "<table border=\"1\" class=\"dataframe\">\n",
       "  <thead>\n",
       "    <tr style=\"text-align: right;\">\n",
       "      <th></th>\n",
       "      <th>Country</th>\n",
       "      <th>Happiness Score</th>\n",
       "    </tr>\n",
       "  </thead>\n",
       "  <tbody>\n",
       "    <tr>\n",
       "      <th>0</th>\n",
       "      <td>NORWAY</td>\n",
       "      <td>7.537</td>\n",
       "    </tr>\n",
       "    <tr>\n",
       "      <th>1</th>\n",
       "      <td>DENMARK</td>\n",
       "      <td>7.522</td>\n",
       "    </tr>\n",
       "  </tbody>\n",
       "</table>\n",
       "</div>"
      ],
      "text/plain": [
       "   Country  Happiness Score\n",
       "0   NORWAY            7.537\n",
       "1  DENMARK            7.522"
      ]
     },
     "execution_count": 8,
     "metadata": {},
     "output_type": "execute_result"
    }
   ],
   "source": [
    "report2017.head(2)"
   ]
  },
  {
   "cell_type": "code",
   "execution_count": 9,
   "metadata": {},
   "outputs": [
    {
     "data": {
      "text/plain": [
       "(158, 157, 155)"
      ]
     },
     "execution_count": 9,
     "metadata": {},
     "output_type": "execute_result"
    }
   ],
   "source": [
    "len(report2015),len(report2016),len(report2017)"
   ]
  },
  {
   "cell_type": "code",
   "execution_count": 10,
   "metadata": {},
   "outputs": [
    {
     "name": "stdout",
     "output_type": "stream",
     "text": [
      "Countries which are in 2015 data but not in 2016 data: \n",
      "OMAN\n",
      "MOZAMBIQUE\n",
      "LESOTHO\n",
      "SWAZILAND\n",
      "DJIBOUTI\n",
      "CENTRAL AFRICAN REPUBLIC\n",
      "Countries which are in 2016 data but not in 2015 data: \n",
      "PUERTO RICO\n",
      "BELIZE\n",
      "SOMALIA\n",
      "NAMIBIA\n",
      "SOUTH SUDAN\n",
      "Countries which are in 2015 data but not in 2017 data: \n",
      "OMAN\n",
      "TAIWAN\n",
      "SURINAME\n",
      "HONG KONG\n",
      "SOMALILAND REGION\n",
      "LAOS\n",
      "SWAZILAND\n",
      "DJIBOUTI\n",
      "COMOROS\n",
      "Countries which are in 2017 data but not in 2015 data: \n",
      "TAIWAN PROVINCE OF CHINA\n",
      "BELIZE\n",
      "HONG KONG S.A.R., CHINA\n",
      "SOMALIA\n",
      "NAMIBIA\n",
      "SOUTH SUDAN\n",
      "Countries which are in 2016 data but not in 2017 data: \n",
      "PUERTO RICO\n",
      "TAIWAN\n",
      "SURINAME\n",
      "HONG KONG\n",
      "SOMALILAND REGION\n",
      "LAOS\n",
      "COMOROS\n",
      "Countries which are in 2017 data but not in 2016 data: \n",
      "TAIWAN PROVINCE OF CHINA\n",
      "HONG KONG S.A.R., CHINA\n",
      "MOZAMBIQUE\n",
      "LESOTHO\n",
      "CENTRAL AFRICAN REPUBLIC\n"
     ]
    }
   ],
   "source": [
    "# We see that there is a difference in between country lengths, let's see which countries are missing in each years\n",
    "def getDifferences(countries2015,countries2016,countries2017):\n",
    "    print(\"Countries which are in 2015 data but not in 2016 data: \")\n",
    "    for i in countries2015:\n",
    "        if not i in countries2016:\n",
    "            print(i)\n",
    "    print(\"Countries which are in 2016 data but not in 2015 data: \")\n",
    "    for i in countries2016:\n",
    "        if not i in countries2015:\n",
    "            print(i)\n",
    "    print(\"Countries which are in 2015 data but not in 2017 data: \")\n",
    "    for i in countries2015:\n",
    "        if not i in countries2017:\n",
    "            print(i)\n",
    "    print(\"Countries which are in 2017 data but not in 2015 data: \")\n",
    "    for i in countries2017:\n",
    "        if not i in countries2015:\n",
    "            print(i)\n",
    "    print(\"Countries which are in 2016 data but not in 2017 data: \")\n",
    "    for i in countries2016:\n",
    "        if not i in countries2017:\n",
    "            print(i)\n",
    "    print(\"Countries which are in 2017 data but not in 2016 data: \")\n",
    "    for i in countries2017:\n",
    "        if not i in countries2016:\n",
    "            print(i)\n",
    "getDifferences(report2015['Country'].values,report2016['Country'].values,report2017['Country'].values)"
   ]
  },
  {
   "cell_type": "code",
   "execution_count": 11,
   "metadata": {},
   "outputs": [],
   "source": [
    "# From closely looking, it is visible that few countries are missing from each year, but specifically,\n",
    "# \"Hong Kong\" and \"Taiwan\" have different names in 2017, so renaming them will output lesser differences\n",
    "report2017 = report2017.replace('TAIWAN PROVINCE OF CHINA','TAIWAN')\n",
    "report2017 = report2017.replace('HONG KONG S.A.R., CHINA','HONG KONG')"
   ]
  },
  {
   "cell_type": "code",
   "execution_count": 12,
   "metadata": {},
   "outputs": [
    {
     "name": "stdout",
     "output_type": "stream",
     "text": [
      "Printing the countries which are in 2017 dataset but not in either 2015 dataset or in 2016 dataset (If Any): \n"
     ]
    }
   ],
   "source": [
    "print(\"Printing the countries which are in 2017 dataset but not in either 2015 dataset or in 2016 dataset (If Any): \")\n",
    "for i in report2017['Country'].values:\n",
    "    if not (i in report2015['Country'].values or i in report2016['Country'].values):\n",
    "        print(i)"
   ]
  },
  {
   "cell_type": "code",
   "execution_count": 13,
   "metadata": {},
   "outputs": [],
   "source": [
    "# Now Since there are no such countries, we can add a 'Region' label in 2017 dataset\n",
    "regions = []\n",
    "countries = report2017['Country'].values\n",
    "countries2015 = report2015['Country'].values\n",
    "countries2016 = report2016['Country'].values\n",
    "for country in countries:\n",
    "    if country in countries2015: # If that country exists in 2015 list\n",
    "        regions.append(report2015.loc[report2015.Country == country]['Region'].values[0])\n",
    "    elif country in countries2016: # If that country exists in 2016 list\n",
    "        regions.append(report2016.loc[report2016.Country == country]['Region'].values[0])\n",
    "    else: print(\"Country found neither in 2015 list nor in 2016 list\")\n",
    "\n",
    "# Adding the 'Region' column to 2017 dataframe\n",
    "report2017['Region'] = regions"
   ]
  },
  {
   "cell_type": "code",
   "execution_count": 14,
   "metadata": {},
   "outputs": [
    {
     "data": {
      "text/html": [
       "<div>\n",
       "<style scoped>\n",
       "    .dataframe tbody tr th:only-of-type {\n",
       "        vertical-align: middle;\n",
       "    }\n",
       "\n",
       "    .dataframe tbody tr th {\n",
       "        vertical-align: top;\n",
       "    }\n",
       "\n",
       "    .dataframe thead th {\n",
       "        text-align: right;\n",
       "    }\n",
       "</style>\n",
       "<table border=\"1\" class=\"dataframe\">\n",
       "  <thead>\n",
       "    <tr style=\"text-align: right;\">\n",
       "      <th></th>\n",
       "      <th>Country</th>\n",
       "      <th>Happiness Score</th>\n",
       "      <th>Region</th>\n",
       "    </tr>\n",
       "  </thead>\n",
       "  <tbody>\n",
       "    <tr>\n",
       "      <th>0</th>\n",
       "      <td>NORWAY</td>\n",
       "      <td>7.537</td>\n",
       "      <td>WESTERN EUROPE</td>\n",
       "    </tr>\n",
       "    <tr>\n",
       "      <th>1</th>\n",
       "      <td>DENMARK</td>\n",
       "      <td>7.522</td>\n",
       "      <td>WESTERN EUROPE</td>\n",
       "    </tr>\n",
       "    <tr>\n",
       "      <th>2</th>\n",
       "      <td>ICELAND</td>\n",
       "      <td>7.504</td>\n",
       "      <td>WESTERN EUROPE</td>\n",
       "    </tr>\n",
       "    <tr>\n",
       "      <th>3</th>\n",
       "      <td>SWITZERLAND</td>\n",
       "      <td>7.494</td>\n",
       "      <td>WESTERN EUROPE</td>\n",
       "    </tr>\n",
       "    <tr>\n",
       "      <th>4</th>\n",
       "      <td>FINLAND</td>\n",
       "      <td>7.469</td>\n",
       "      <td>WESTERN EUROPE</td>\n",
       "    </tr>\n",
       "  </tbody>\n",
       "</table>\n",
       "</div>"
      ],
      "text/plain": [
       "       Country  Happiness Score          Region\n",
       "0       NORWAY            7.537  WESTERN EUROPE\n",
       "1      DENMARK            7.522  WESTERN EUROPE\n",
       "2      ICELAND            7.504  WESTERN EUROPE\n",
       "3  SWITZERLAND            7.494  WESTERN EUROPE\n",
       "4      FINLAND            7.469  WESTERN EUROPE"
      ]
     },
     "execution_count": 14,
     "metadata": {},
     "output_type": "execute_result"
    }
   ],
   "source": [
    "report2017.head()"
   ]
  },
  {
   "cell_type": "markdown",
   "metadata": {},
   "source": [
    "## Starting to answer the following questions\n",
    "* *Countries with a happiness score of less than 5.0*\n",
    "* *Which is the unhappiest country in Sub-Saharan Africa?*\n",
    "* *Compare the Unhappiest and happiest countries in each region*\n",
    "* *Countries that became unhappy between 2015 to 2017*\n",
    "* *Find the country whose happiness decreased by the most amount*"
   ]
  },
  {
   "cell_type": "markdown",
   "metadata": {},
   "source": [
    "### 1. Countries with Happiness Score of less than 5.0"
   ]
  },
  {
   "cell_type": "code",
   "execution_count": 15,
   "metadata": {},
   "outputs": [],
   "source": [
    "# First gather down the scores of all the 3 years, then print out the unique ones\n",
    "countrylis = []\n",
    "l1 = list(report2015.loc[report2015['Happiness Score'] < 5.0]['Country'].values)\n",
    "l2 = list(report2016.loc[report2016['Happiness Score'] < 5.0]['Country'].values)\n",
    "l3 = list(report2017.loc[report2017['Happiness Score'] < 5.0]['Country'].values)\n",
    "countrylis = l1+l2+l3"
   ]
  },
  {
   "cell_type": "code",
   "execution_count": 16,
   "metadata": {},
   "outputs": [
    {
     "name": "stdout",
     "output_type": "stream",
     "text": [
      "The Names of the Countries that has happiness score < 5.0 in either 2015,2016 or 2017 are: \n",
      " {'HONDURAS', 'CONGO (KINSHASA)', 'UKRAINE', 'HUNGARY', 'TANZANIA', 'INDIA', 'CHAD', 'SUDAN', 'RWANDA', 'MALI', 'CENTRAL AFRICAN REPUBLIC', 'MALAWI', 'IVORY COAST', 'BANGLADESH', 'SWAZILAND', 'KENYA', 'TUNISIA', 'SOUTH AFRICA', 'ANGOLA', 'BENIN', 'GABON', 'GEORGIA', 'LAOS', 'LEBANON', 'SIERRA LEONE', 'TOGO', 'DOMINICAN REPUBLIC', 'MOZAMBIQUE', 'MAURITANIA', 'BOTSWANA', 'ALBANIA', 'TAJIKISTAN', 'DJIBOUTI', 'CONGO (BRAZZAVILLE)', 'SRI LANKA', 'EGYPT', 'YEMEN', 'UGANDA', 'SENEGAL', 'BULGARIA', 'BURKINA FASO', 'MONGOLIA', 'MYANMAR', 'NAMIBIA', 'ARMENIA', 'NIGER', 'NIGERIA', 'ETHIOPIA', 'IRAQ', 'ZAMBIA', 'NEPAL', 'COMOROS', 'BURUNDI', 'CAMEROON', 'HAITI', 'ZIMBABWE', 'GREECE', 'IRAN', 'LESOTHO', 'SOUTH SUDAN', 'MADAGASCAR', 'LIBERIA', 'GHANA', 'CAMBODIA', 'SYRIA', 'BOSNIA AND HERZEGOVINA', 'AFGHANISTAN', 'PALESTINIAN TERRITORIES', 'GUINEA'}\n"
     ]
    }
   ],
   "source": [
    "print(\"The Names of the Countries that has happiness score < 5.0 in either 2015,2016 or 2017 are: \\n\",set(countrylis))"
   ]
  },
  {
   "cell_type": "markdown",
   "metadata": {},
   "source": [
    "### 2. Which is the  unhappiest country in Sub-Saharan Africa?\n",
    "Since the countries are arranged in reverse order of their happiness score, we can simply find out the last country in the list of the 3 years, and find out the country with minimum happiness amongst these 3."
   ]
  },
  {
   "cell_type": "code",
   "execution_count": 17,
   "metadata": {},
   "outputs": [],
   "source": [
    "def UnhappiestInRegion(regionname,report2015,report2016,report2017):\n",
    "    subsaharan2015 = report2015.loc[report2015['Region']==regionname]\n",
    "    subsaharan2016 = report2016.loc[report2016['Region']==regionname]\n",
    "    subsaharan2017 = report2017.loc[report2017['Region']==regionname]\n",
    "    \n",
    "    min2015 = subsaharan2015.values[-1]\n",
    "    min2016 = subsaharan2016.values[-1]\n",
    "    min2017 = subsaharan2017.values[-1]\n",
    "    \n",
    "    minscore = min(min2015[-1],min2016[-1],min2017[1])\n",
    "    mincont = 'None'\n",
    "    if min2015[-1] == minscore: mincont = min2015[0]\n",
    "    elif min2016[-1] == minscore: mincont = min2016[0]\n",
    "    elif min2017[1] == minscore: mincont = min2017[0]\n",
    "    \n",
    "    return minscore,mincont"
   ]
  },
  {
   "cell_type": "code",
   "execution_count": 18,
   "metadata": {},
   "outputs": [
    {
     "name": "stdout",
     "output_type": "stream",
     "text": [
      "Over the all three years, the Most Unhappiest Country is : CENTRAL AFRICAN REPUBLIC with happiness score of  2.69300007820129\n"
     ]
    }
   ],
   "source": [
    "minscore,mincont = UnhappiestInRegion('SUB-SAHARAN AFRICA',report2015,report2016,report2017)\n",
    "print(\"Over the all three years, the Most Unhappiest Country is :\", mincont , \"with happiness score of \",minscore)"
   ]
  },
  {
   "cell_type": "markdown",
   "metadata": {},
   "source": [
    "### 3. Compare the Unhappiest and happiest countries in each region"
   ]
  },
  {
   "cell_type": "code",
   "execution_count": 19,
   "metadata": {},
   "outputs": [],
   "source": [
    "# Since we have already made a function to find out unhappiest country in particular region,\n",
    "#  now making function to find out happiest in particular region\n",
    "def HappiestInRegion(regionname,report2015,report2016,report2017):\n",
    "    subsaharan2015 = report2015.loc[report2015['Region']==regionname]\n",
    "    subsaharan2016 = report2016.loc[report2016['Region']==regionname]\n",
    "    subsaharan2017 = report2017.loc[report2017['Region']==regionname]\n",
    "    \n",
    "    max2015 = subsaharan2015.values[0]\n",
    "    max2016 = subsaharan2016.values[0]\n",
    "    max2017 = subsaharan2017.values[0]\n",
    "    \n",
    "    maxscore = max(max2015[-1],max2016[-1],max2017[1])\n",
    "    maxcont = 'None'\n",
    "    if max2015[-1] == maxscore: maxcont = max2015[0]\n",
    "    elif max2016[-1] == maxscore: maxcont = max2016[0]\n",
    "    elif max2017[1] == maxscore: maxcont = max2017[0]\n",
    "    \n",
    "    return maxscore,maxcont"
   ]
  },
  {
   "cell_type": "code",
   "execution_count": 20,
   "metadata": {},
   "outputs": [],
   "source": [
    "# Since all the 3 year dataframes contain same regions, we need not take all unique regions from all the 3 datasets\n",
    "regions = report2015.Region.unique()\n",
    "score_count = []\n",
    "for region in regions:\n",
    "    unhappiest = UnhappiestInRegion(region,report2015,report2016,report2017)\n",
    "    happiest   = HappiestInRegion(region,report2015,report2016,report2017)\n",
    "    score_count.append([region,happiest,unhappiest])"
   ]
  },
  {
   "cell_type": "code",
   "execution_count": 21,
   "metadata": {},
   "outputs": [
    {
     "name": "stdout",
     "output_type": "stream",
     "text": [
      "Region: WESTERN EUROPE \n",
      "Happiest Country is SWITZERLAND with score of 7.587 . Unhappiest Country is GREECE with score of 4.86\n",
      "Region: NORTH AMERICA \n",
      "Happiest Country is CANADA with score of 7.427 . Unhappiest Country is UNITED STATES with score of 6.99\n",
      "Region: AUSTRALIA AND NEW ZEALAND \n",
      "Happiest Country is NEW ZEALAND with score of 7.334 . Unhappiest Country is AUSTRALIA with score of 7.28\n",
      "Region: MIDDLE EAST AND NORTHERN AFRICA \n",
      "Happiest Country is ISRAEL with score of 7.278 . Unhappiest Country is SYRIA with score of 3.01\n",
      "Region: LATIN AMERICA AND CARIBBEAN \n",
      "Happiest Country is COSTA RICA with score of 7.226 . Unhappiest Country is HAITI with score of 3.6\n",
      "Region: SOUTHEASTERN ASIA \n",
      "Happiest Country is SINGAPORE with score of 6.798 . Unhappiest Country is CAMBODIA with score of 3.82\n",
      "Region: CENTRAL AND EASTERN EUROPE \n",
      "Happiest Country is CZECH REPUBLIC with score of 6.609 . Unhappiest Country is UKRAINE with score of 4.1\n",
      "Region: EASTERN ASIA \n",
      "Happiest Country is TAIWAN with score of 6.422 . Unhappiest Country is MONGOLIA with score of 4.87\n",
      "Region: SUB-SAHARAN AFRICA \n",
      "Happiest Country is MAURITIUS with score of 5.648 . Unhappiest Country is CENTRAL AFRICAN REPUBLIC with score of 2.69\n",
      "Region: SOUTHERN ASIA \n",
      "Happiest Country is PAKISTAN with score of 5.269 . Unhappiest Country is AFGHANISTAN with score of 3.36\n"
     ]
    }
   ],
   "source": [
    "for i in score_count:\n",
    "    print(\"Region:\",i[0],'\\nHappiest Country is',i[1][1], 'with score of',round(i[1][0],3),'. Unhappiest Country is',i[2][1],'with score of',round(i[2][0],2))"
   ]
  },
  {
   "cell_type": "markdown",
   "metadata": {},
   "source": [
    "### 4. Countries that became unhappy between 2015 to 2017\n",
    "Since there are some countries that are there in 2015 but not in 2017 and vice versa, we will find out the intersection of the countries from both datasets (i.e, Countries which is in both dataset) and then do the comparison of happiness"
   ]
  },
  {
   "cell_type": "code",
   "execution_count": 22,
   "metadata": {},
   "outputs": [],
   "source": [
    "# Function to return the intersection of two lists\n",
    "def intersection(lst1, lst2): return list(set(lst1) & set(lst2))"
   ]
  },
  {
   "cell_type": "code",
   "execution_count": 23,
   "metadata": {},
   "outputs": [],
   "source": [
    "countries = intersection(report2015['Country'],report2017['Country'].values)\n",
    "\n",
    "#sorting the country names in ascending order\n",
    "countries.sort()"
   ]
  },
  {
   "cell_type": "code",
   "execution_count": 29,
   "metadata": {},
   "outputs": [],
   "source": [
    "score2015 = report2015.loc[report2015['Country'].map(lambda x: x in countries)][['Country','Happiness Score']]\n",
    "score2017 = report2017.loc[report2017['Country'].map(lambda x: x in countries)][['Country','Happiness Score']]\n",
    "\n",
    "# Sort both by Country Names in Ascending Order, so it is easy to subtract later\n",
    "score2015 = score2015.sort_values(by=['Country'])\n",
    "score2017 = score2017.sort_values(by=['Country'])"
   ]
  },
  {
   "cell_type": "code",
   "execution_count": 30,
   "metadata": {},
   "outputs": [
    {
     "data": {
      "text/html": [
       "<div>\n",
       "<style scoped>\n",
       "    .dataframe tbody tr th:only-of-type {\n",
       "        vertical-align: middle;\n",
       "    }\n",
       "\n",
       "    .dataframe tbody tr th {\n",
       "        vertical-align: top;\n",
       "    }\n",
       "\n",
       "    .dataframe thead th {\n",
       "        text-align: right;\n",
       "    }\n",
       "</style>\n",
       "<table border=\"1\" class=\"dataframe\">\n",
       "  <thead>\n",
       "    <tr style=\"text-align: right;\">\n",
       "      <th></th>\n",
       "      <th>Country</th>\n",
       "      <th>Happiness Score</th>\n",
       "    </tr>\n",
       "  </thead>\n",
       "  <tbody>\n",
       "    <tr>\n",
       "      <th>152</th>\n",
       "      <td>AFGHANISTAN</td>\n",
       "      <td>3.575</td>\n",
       "    </tr>\n",
       "    <tr>\n",
       "      <th>94</th>\n",
       "      <td>ALBANIA</td>\n",
       "      <td>4.959</td>\n",
       "    </tr>\n",
       "    <tr>\n",
       "      <th>67</th>\n",
       "      <td>ALGERIA</td>\n",
       "      <td>5.605</td>\n",
       "    </tr>\n",
       "    <tr>\n",
       "      <th>136</th>\n",
       "      <td>ANGOLA</td>\n",
       "      <td>4.033</td>\n",
       "    </tr>\n",
       "    <tr>\n",
       "      <th>29</th>\n",
       "      <td>ARGENTINA</td>\n",
       "      <td>6.574</td>\n",
       "    </tr>\n",
       "  </tbody>\n",
       "</table>\n",
       "</div>"
      ],
      "text/plain": [
       "         Country  Happiness Score\n",
       "152  AFGHANISTAN            3.575\n",
       "94       ALBANIA            4.959\n",
       "67       ALGERIA            5.605\n",
       "136       ANGOLA            4.033\n",
       "29     ARGENTINA            6.574"
      ]
     },
     "execution_count": 30,
     "metadata": {},
     "output_type": "execute_result"
    }
   ],
   "source": [
    "score2015.head()"
   ]
  },
  {
   "cell_type": "code",
   "execution_count": 31,
   "metadata": {},
   "outputs": [
    {
     "data": {
      "text/html": [
       "<div>\n",
       "<style scoped>\n",
       "    .dataframe tbody tr th:only-of-type {\n",
       "        vertical-align: middle;\n",
       "    }\n",
       "\n",
       "    .dataframe tbody tr th {\n",
       "        vertical-align: top;\n",
       "    }\n",
       "\n",
       "    .dataframe thead th {\n",
       "        text-align: right;\n",
       "    }\n",
       "</style>\n",
       "<table border=\"1\" class=\"dataframe\">\n",
       "  <thead>\n",
       "    <tr style=\"text-align: right;\">\n",
       "      <th></th>\n",
       "      <th>Country</th>\n",
       "      <th>Happiness Score</th>\n",
       "    </tr>\n",
       "  </thead>\n",
       "  <tbody>\n",
       "    <tr>\n",
       "      <th>140</th>\n",
       "      <td>AFGHANISTAN</td>\n",
       "      <td>3.794</td>\n",
       "    </tr>\n",
       "    <tr>\n",
       "      <th>108</th>\n",
       "      <td>ALBANIA</td>\n",
       "      <td>4.644</td>\n",
       "    </tr>\n",
       "    <tr>\n",
       "      <th>52</th>\n",
       "      <td>ALGERIA</td>\n",
       "      <td>5.872</td>\n",
       "    </tr>\n",
       "    <tr>\n",
       "      <th>139</th>\n",
       "      <td>ANGOLA</td>\n",
       "      <td>3.795</td>\n",
       "    </tr>\n",
       "    <tr>\n",
       "      <th>23</th>\n",
       "      <td>ARGENTINA</td>\n",
       "      <td>6.599</td>\n",
       "    </tr>\n",
       "  </tbody>\n",
       "</table>\n",
       "</div>"
      ],
      "text/plain": [
       "         Country  Happiness Score\n",
       "140  AFGHANISTAN            3.794\n",
       "108      ALBANIA            4.644\n",
       "52       ALGERIA            5.872\n",
       "139       ANGOLA            3.795\n",
       "23     ARGENTINA            6.599"
      ]
     },
     "execution_count": 31,
     "metadata": {},
     "output_type": "execute_result"
    }
   ],
   "source": [
    "score2017.head()"
   ]
  },
  {
   "cell_type": "code",
   "execution_count": 37,
   "metadata": {},
   "outputs": [
    {
     "name": "stdout",
     "output_type": "stream",
     "text": [
      "The Happiness of the country AFGHANISTAN decreased from 2015 to 2017\n",
      "The Happiness of the country ALGERIA decreased from 2015 to 2017\n",
      "The Happiness of the country ARGENTINA decreased from 2015 to 2017\n",
      "The Happiness of the country ARMENIA decreased from 2015 to 2017\n",
      "The Happiness of the country AZERBAIJAN decreased from 2015 to 2017\n",
      "The Happiness of the country BAHRAIN decreased from 2015 to 2017\n",
      "The Happiness of the country BENIN decreased from 2015 to 2017\n",
      "The Happiness of the country BOSNIA AND HERZEGOVINA decreased from 2015 to 2017\n",
      "The Happiness of the country BULGARIA decreased from 2015 to 2017\n",
      "The Happiness of the country BURKINA FASO decreased from 2015 to 2017\n",
      "The Happiness of the country CAMBODIA decreased from 2015 to 2017\n",
      "The Happiness of the country CAMEROON decreased from 2015 to 2017\n",
      "The Happiness of the country CHAD decreased from 2015 to 2017\n",
      "The Happiness of the country CHINA decreased from 2015 to 2017\n",
      "The Happiness of the country CONGO (BRAZZAVILLE) decreased from 2015 to 2017\n",
      "The Happiness of the country CZECH REPUBLIC decreased from 2015 to 2017\n",
      "The Happiness of the country DOMINICAN REPUBLIC decreased from 2015 to 2017\n",
      "The Happiness of the country ECUADOR decreased from 2015 to 2017\n",
      "The Happiness of the country EGYPT decreased from 2015 to 2017\n",
      "The Happiness of the country ESTONIA decreased from 2015 to 2017\n",
      "The Happiness of the country FINLAND decreased from 2015 to 2017\n",
      "The Happiness of the country GABON decreased from 2015 to 2017\n",
      "The Happiness of the country GERMANY decreased from 2015 to 2017\n",
      "The Happiness of the country GREECE decreased from 2015 to 2017\n",
      "The Happiness of the country GUATEMALA decreased from 2015 to 2017\n",
      "The Happiness of the country HONDURAS decreased from 2015 to 2017\n",
      "The Happiness of the country HUNGARY decreased from 2015 to 2017\n",
      "The Happiness of the country IRAN decreased from 2015 to 2017\n",
      "The Happiness of the country IRELAND decreased from 2015 to 2017\n",
      "The Happiness of the country ITALY decreased from 2015 to 2017\n",
      "The Happiness of the country IVORY COAST decreased from 2015 to 2017\n",
      "The Happiness of the country JORDAN decreased from 2015 to 2017\n",
      "The Happiness of the country KENYA decreased from 2015 to 2017\n",
      "The Happiness of the country LATVIA decreased from 2015 to 2017\n",
      "The Happiness of the country LEBANON decreased from 2015 to 2017\n",
      "The Happiness of the country LITHUANIA decreased from 2015 to 2017\n",
      "The Happiness of the country MACEDONIA decreased from 2015 to 2017\n",
      "The Happiness of the country MALAYSIA decreased from 2015 to 2017\n",
      "The Happiness of the country MALI decreased from 2015 to 2017\n",
      "The Happiness of the country MALTA decreased from 2015 to 2017\n",
      "The Happiness of the country MAURITIUS decreased from 2015 to 2017\n",
      "The Happiness of the country MONGOLIA decreased from 2015 to 2017\n",
      "The Happiness of the country MONTENEGRO decreased from 2015 to 2017\n",
      "The Happiness of the country MOROCCO decreased from 2015 to 2017\n",
      "The Happiness of the country MYANMAR decreased from 2015 to 2017\n",
      "The Happiness of the country NEPAL decreased from 2015 to 2017\n",
      "The Happiness of the country NEW ZEALAND decreased from 2015 to 2017\n",
      "The Happiness of the country NICARAGUA decreased from 2015 to 2017\n",
      "The Happiness of the country NIGER decreased from 2015 to 2017\n",
      "The Happiness of the country NORTH CYPRUS decreased from 2015 to 2017\n",
      "The Happiness of the country NORWAY decreased from 2015 to 2017\n",
      "The Happiness of the country PAKISTAN decreased from 2015 to 2017\n",
      "The Happiness of the country PALESTINIAN TERRITORIES decreased from 2015 to 2017\n",
      "The Happiness of the country PHILIPPINES decreased from 2015 to 2017\n",
      "The Happiness of the country POLAND decreased from 2015 to 2017\n",
      "The Happiness of the country PORTUGAL decreased from 2015 to 2017\n",
      "The Happiness of the country ROMANIA decreased from 2015 to 2017\n",
      "The Happiness of the country RUSSIA decreased from 2015 to 2017\n",
      "The Happiness of the country RWANDA decreased from 2015 to 2017\n",
      "The Happiness of the country SENEGAL decreased from 2015 to 2017\n",
      "The Happiness of the country SERBIA decreased from 2015 to 2017\n",
      "The Happiness of the country SIERRA LEONE decreased from 2015 to 2017\n",
      "The Happiness of the country SLOVAKIA decreased from 2015 to 2017\n",
      "The Happiness of the country SOUTH AFRICA decreased from 2015 to 2017\n",
      "The Happiness of the country SPAIN decreased from 2015 to 2017\n",
      "The Happiness of the country SRI LANKA decreased from 2015 to 2017\n",
      "The Happiness of the country SYRIA decreased from 2015 to 2017\n",
      "The Happiness of the country TAIWAN decreased from 2015 to 2017\n",
      "The Happiness of the country TAJIKISTAN decreased from 2015 to 2017\n",
      "The Happiness of the country TOGO decreased from 2015 to 2017\n",
      "The Happiness of the country TRINIDAD AND TOBAGO decreased from 2015 to 2017\n",
      "The Happiness of the country TUNISIA decreased from 2015 to 2017\n",
      "The Happiness of the country TURKEY decreased from 2015 to 2017\n",
      "The Happiness of the country TURKMENISTAN decreased from 2015 to 2017\n",
      "The Happiness of the country UGANDA decreased from 2015 to 2017\n"
     ]
    }
   ],
   "source": [
    "scorediff = list(score2015['Happiness Score'].values - score2017['Happiness Score'].values)\n",
    "for i in range(0,len(scorediff)):\n",
    "    if scorediff[i]<0:\n",
    "        print('The Happiness of the country',countries[i],'decreased from 2015 to 2017')"
   ]
  },
  {
   "cell_type": "markdown",
   "metadata": {},
   "source": [
    "### 5. Find the country whose happiness decreased by the most amount\n",
    "Since we already have the difference in scores of Happiness from initial year (2015) to final year (2017), the minimum of that list will be the country with the most decrease in happiness"
   ]
  },
  {
   "cell_type": "code",
   "execution_count": 38,
   "metadata": {},
   "outputs": [],
   "source": [
    "indexMostDecrease = scorediff.index(min(scorediff))"
   ]
  },
  {
   "cell_type": "code",
   "execution_count": 40,
   "metadata": {},
   "outputs": [
    {
     "name": "stdout",
     "output_type": "stream",
     "text": [
      "The Country whose happiness is decreased by most amount is : LATVIA\n"
     ]
    }
   ],
   "source": [
    "print(\"The Country whose happiness is decreased by most amount is :\", countries[indexMostDecrease])"
   ]
  },
  {
   "cell_type": "code",
   "execution_count": null,
   "metadata": {},
   "outputs": [],
   "source": []
  }
 ],
 "metadata": {
  "kernelspec": {
   "display_name": "Python 3",
   "language": "python",
   "name": "python3"
  },
  "language_info": {
   "codemirror_mode": {
    "name": "ipython",
    "version": 3
   },
   "file_extension": ".py",
   "mimetype": "text/x-python",
   "name": "python",
   "nbconvert_exporter": "python",
   "pygments_lexer": "ipython3",
   "version": "3.7.3"
  }
 },
 "nbformat": 4,
 "nbformat_minor": 4
}
